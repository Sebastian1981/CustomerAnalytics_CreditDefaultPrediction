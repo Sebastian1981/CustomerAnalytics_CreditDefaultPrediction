{
 "cells": [
  {
   "cell_type": "code",
   "execution_count": 17,
   "metadata": {},
   "outputs": [],
   "source": [
    "# import modules\n",
    "import joblib\n",
    "from pathlib import Path\n",
    "import numpy as np\n",
    "import pandas as pd\n",
    "import matplotlib.pyplot as plt\n",
    "from sklearn.model_selection import train_test_split"
   ]
  },
  {
   "cell_type": "code",
   "execution_count": 18,
   "metadata": {},
   "outputs": [],
   "source": [
    "# set paths\n",
    "DATAPATH = \"./data\"\n",
    "DATAPROCESSEDPATH = \"./data_preprocessed\"\n",
    "MODELPATH = \"./models\""
   ]
  },
  {
   "cell_type": "code",
   "execution_count": 19,
   "metadata": {},
   "outputs": [
    {
     "data": {
      "text/html": [
       "<div>\n",
       "<style scoped>\n",
       "    .dataframe tbody tr th:only-of-type {\n",
       "        vertical-align: middle;\n",
       "    }\n",
       "\n",
       "    .dataframe tbody tr th {\n",
       "        vertical-align: top;\n",
       "    }\n",
       "\n",
       "    .dataframe thead th {\n",
       "        text-align: right;\n",
       "    }\n",
       "</style>\n",
       "<table border=\"1\" class=\"dataframe\">\n",
       "  <thead>\n",
       "    <tr style=\"text-align: right;\">\n",
       "      <th></th>\n",
       "      <th>ID</th>\n",
       "      <th>year</th>\n",
       "      <th>loan_limit</th>\n",
       "      <th>Gender</th>\n",
       "      <th>approv_in_adv</th>\n",
       "      <th>loan_type</th>\n",
       "      <th>loan_purpose</th>\n",
       "      <th>Credit_Worthiness</th>\n",
       "      <th>business_or_commercial</th>\n",
       "      <th>loan_amount</th>\n",
       "      <th>Neg_ammortization</th>\n",
       "      <th>interest_only</th>\n",
       "      <th>income</th>\n",
       "      <th>credit_type</th>\n",
       "      <th>Credit_Score</th>\n",
       "      <th>co-applicant_credit_type</th>\n",
       "      <th>age</th>\n",
       "      <th>submission_of_application</th>\n",
       "      <th>Region</th>\n",
       "      <th>Status</th>\n",
       "    </tr>\n",
       "  </thead>\n",
       "  <tbody>\n",
       "    <tr>\n",
       "      <th>0</th>\n",
       "      <td>24890</td>\n",
       "      <td>2019</td>\n",
       "      <td>cf</td>\n",
       "      <td>Sex Not Available</td>\n",
       "      <td>nopre</td>\n",
       "      <td>type1</td>\n",
       "      <td>p1</td>\n",
       "      <td>l1</td>\n",
       "      <td>nob/c</td>\n",
       "      <td>116500</td>\n",
       "      <td>not_neg</td>\n",
       "      <td>not_int</td>\n",
       "      <td>1740.0</td>\n",
       "      <td>EXP</td>\n",
       "      <td>758</td>\n",
       "      <td>CIB</td>\n",
       "      <td>25-34</td>\n",
       "      <td>to_inst</td>\n",
       "      <td>south</td>\n",
       "      <td>1</td>\n",
       "    </tr>\n",
       "    <tr>\n",
       "      <th>1</th>\n",
       "      <td>24891</td>\n",
       "      <td>2019</td>\n",
       "      <td>cf</td>\n",
       "      <td>Male</td>\n",
       "      <td>nopre</td>\n",
       "      <td>type2</td>\n",
       "      <td>p1</td>\n",
       "      <td>l1</td>\n",
       "      <td>b/c</td>\n",
       "      <td>206500</td>\n",
       "      <td>not_neg</td>\n",
       "      <td>not_int</td>\n",
       "      <td>4980.0</td>\n",
       "      <td>EQUI</td>\n",
       "      <td>552</td>\n",
       "      <td>EXP</td>\n",
       "      <td>55-64</td>\n",
       "      <td>to_inst</td>\n",
       "      <td>North</td>\n",
       "      <td>1</td>\n",
       "    </tr>\n",
       "    <tr>\n",
       "      <th>2</th>\n",
       "      <td>24892</td>\n",
       "      <td>2019</td>\n",
       "      <td>cf</td>\n",
       "      <td>Male</td>\n",
       "      <td>pre</td>\n",
       "      <td>type1</td>\n",
       "      <td>p1</td>\n",
       "      <td>l1</td>\n",
       "      <td>nob/c</td>\n",
       "      <td>406500</td>\n",
       "      <td>neg_amm</td>\n",
       "      <td>not_int</td>\n",
       "      <td>9480.0</td>\n",
       "      <td>EXP</td>\n",
       "      <td>834</td>\n",
       "      <td>CIB</td>\n",
       "      <td>35-44</td>\n",
       "      <td>to_inst</td>\n",
       "      <td>south</td>\n",
       "      <td>0</td>\n",
       "    </tr>\n",
       "    <tr>\n",
       "      <th>3</th>\n",
       "      <td>24893</td>\n",
       "      <td>2019</td>\n",
       "      <td>cf</td>\n",
       "      <td>Male</td>\n",
       "      <td>nopre</td>\n",
       "      <td>type1</td>\n",
       "      <td>p4</td>\n",
       "      <td>l1</td>\n",
       "      <td>nob/c</td>\n",
       "      <td>456500</td>\n",
       "      <td>not_neg</td>\n",
       "      <td>not_int</td>\n",
       "      <td>11880.0</td>\n",
       "      <td>EXP</td>\n",
       "      <td>587</td>\n",
       "      <td>CIB</td>\n",
       "      <td>45-54</td>\n",
       "      <td>not_inst</td>\n",
       "      <td>North</td>\n",
       "      <td>0</td>\n",
       "    </tr>\n",
       "    <tr>\n",
       "      <th>4</th>\n",
       "      <td>24894</td>\n",
       "      <td>2019</td>\n",
       "      <td>cf</td>\n",
       "      <td>Joint</td>\n",
       "      <td>pre</td>\n",
       "      <td>type1</td>\n",
       "      <td>p1</td>\n",
       "      <td>l1</td>\n",
       "      <td>nob/c</td>\n",
       "      <td>296500</td>\n",
       "      <td>not_neg</td>\n",
       "      <td>not_int</td>\n",
       "      <td>10440.0</td>\n",
       "      <td>CRIF</td>\n",
       "      <td>602</td>\n",
       "      <td>EXP</td>\n",
       "      <td>25-34</td>\n",
       "      <td>not_inst</td>\n",
       "      <td>North</td>\n",
       "      <td>0</td>\n",
       "    </tr>\n",
       "  </tbody>\n",
       "</table>\n",
       "</div>"
      ],
      "text/plain": [
       "      ID  year loan_limit             Gender approv_in_adv loan_type  \\\n",
       "0  24890  2019         cf  Sex Not Available         nopre     type1   \n",
       "1  24891  2019         cf               Male         nopre     type2   \n",
       "2  24892  2019         cf               Male           pre     type1   \n",
       "3  24893  2019         cf               Male         nopre     type1   \n",
       "4  24894  2019         cf              Joint           pre     type1   \n",
       "\n",
       "  loan_purpose Credit_Worthiness business_or_commercial  loan_amount  \\\n",
       "0           p1                l1                  nob/c       116500   \n",
       "1           p1                l1                    b/c       206500   \n",
       "2           p1                l1                  nob/c       406500   \n",
       "3           p4                l1                  nob/c       456500   \n",
       "4           p1                l1                  nob/c       296500   \n",
       "\n",
       "  Neg_ammortization interest_only   income credit_type  Credit_Score  \\\n",
       "0           not_neg       not_int   1740.0         EXP           758   \n",
       "1           not_neg       not_int   4980.0        EQUI           552   \n",
       "2           neg_amm       not_int   9480.0         EXP           834   \n",
       "3           not_neg       not_int  11880.0         EXP           587   \n",
       "4           not_neg       not_int  10440.0        CRIF           602   \n",
       "\n",
       "  co-applicant_credit_type    age submission_of_application Region  Status  \n",
       "0                      CIB  25-34                   to_inst  south       1  \n",
       "1                      EXP  55-64                   to_inst  North       1  \n",
       "2                      CIB  35-44                   to_inst  south       0  \n",
       "3                      CIB  45-54                  not_inst  North       0  \n",
       "4                      EXP  25-34                  not_inst  North       0  "
      ]
     },
     "execution_count": 19,
     "metadata": {},
     "output_type": "execute_result"
    }
   ],
   "source": [
    "# load training dataset\n",
    "with open(DATAPROCESSEDPATH + '/data_preprocessed.pkl','rb') as f:\n",
    "    df = joblib.load(f)\n",
    "\n",
    "df.head()    "
   ]
  },
  {
   "cell_type": "code",
   "execution_count": 20,
   "metadata": {},
   "outputs": [
    {
     "name": "stdout",
     "output_type": "stream",
     "text": [
      "-----------------------------------\n",
      "numeric features: \n",
      " ['loan_amount', 'income', 'Credit_Score']\n",
      "-----------------------------------\n",
      "categorical features: \n",
      " ['loan_limit', 'Gender', 'approv_in_adv', 'loan_type', 'loan_purpose', 'Credit_Worthiness', 'business_or_commercial', 'Neg_ammortization', 'interest_only', 'credit_type', 'co-applicant_credit_type', 'age', 'submission_of_application', 'Region']\n"
     ]
    }
   ],
   "source": [
    "# seperate into numerical and categorical features\n",
    "num_features = list(df.dtypes[(df.dtypes == 'int64') | (df.dtypes == 'float64')].index[2:-1])\n",
    "cat_features = list(df.dtypes[df.dtypes == 'object'].index)\n",
    "label = ['Status']\n",
    "print('-----------------------------------')\n",
    "print('numeric features: \\n', num_features)\n",
    "print('-----------------------------------')\n",
    "print('categorical features: \\n', cat_features)"
   ]
  },
  {
   "cell_type": "code",
   "execution_count": 21,
   "metadata": {},
   "outputs": [],
   "source": [
    "# Separate into train and test sets\n",
    "X = df[num_features + cat_features]\n",
    "y = df[label].values.reshape(-1)\n",
    "X_train, X_test, y_train, y_test, df_train, df_test = train_test_split(X, y, df, test_size=0.3, stratify=y, random_state=123)"
   ]
  },
  {
   "cell_type": "markdown",
   "metadata": {},
   "source": [
    "# Make Pipeline"
   ]
  },
  {
   "cell_type": "code",
   "execution_count": 22,
   "metadata": {},
   "outputs": [],
   "source": [
    "from sklearn.compose import ColumnTransformer\n",
    "from sklearn.pipeline import Pipeline\n",
    "from sklearn.preprocessing import StandardScaler, OneHotEncoder\n",
    "\n",
    "from sklearn.impute import SimpleImputer\n",
    "from sklearn.preprocessing import OneHotEncoder\n",
    "from sklearn.preprocessing import MinMaxScaler\n",
    "\n",
    "from sklearn.model_selection import cross_validate\n",
    "from sklearn.metrics import roc_auc_score, precision_score, recall_score, accuracy_score, f1_score\n",
    "from sklearn.metrics import make_scorer\n",
    "from sklearn.metrics import roc_curve, precision_recall_curve\n",
    "from sklearn.metrics import confusion_matrix\n",
    "from sklearn.metrics import ConfusionMatrixDisplay\n",
    "from sklearn.metrics import RocCurveDisplay, PrecisionRecallDisplay\n",
    "\n",
    "\n",
    "from lightgbm import LGBMClassifier\n",
    "\n"
   ]
  },
  {
   "cell_type": "code",
   "execution_count": 23,
   "metadata": {},
   "outputs": [],
   "source": [
    "# choose classifier\n",
    "classifier = LGBMClassifier(random_state=123)"
   ]
  },
  {
   "cell_type": "code",
   "execution_count": 24,
   "metadata": {},
   "outputs": [],
   "source": [
    "# setup the pipeline elements\n",
    "numeric_transformer = Pipeline(steps=[\n",
    "                                    ('imputer', SimpleImputer(missing_values=np.nan, strategy='median')),\n",
    "                                    ('scaler', MinMaxScaler())\n",
    "                                     ]\n",
    "                               )\n",
    "                               \n",
    "categorical_transformer = Pipeline(steps=[\n",
    "                                    ('imputer', SimpleImputer(missing_values=np.nan, strategy='most_frequent')),\n",
    "                                    ('onehotencode', OneHotEncoder(handle_unknown='error', drop='first', sparse=True))\n",
    "                                          ]\n",
    "                                    )"
   ]
  },
  {
   "cell_type": "code",
   "execution_count": 25,
   "metadata": {},
   "outputs": [],
   "source": [
    "# Combine preprocessing steps\n",
    "preprocessor = ColumnTransformer(transformers=[\n",
    "                                               ('num', numeric_transformer, num_features), \n",
    "                                               ('cat', categorical_transformer, cat_features)\n",
    "                                              ], remainder='drop'\n",
    "                                 )"
   ]
  },
  {
   "cell_type": "code",
   "execution_count": 26,
   "metadata": {},
   "outputs": [],
   "source": [
    "# Create preprocessing and training pipeline\n",
    "pipeline = Pipeline(steps=[\n",
    "                           ('preprocessor', preprocessor),\n",
    "                           ('gbc', classifier)\n",
    "                          ]\n",
    "                    )"
   ]
  },
  {
   "cell_type": "code",
   "execution_count": 27,
   "metadata": {},
   "outputs": [
    {
     "name": "stdout",
     "output_type": "stream",
     "text": [
      "Pipeline(steps=[('preprocessor',\n",
      "                 ColumnTransformer(transformers=[('num',\n",
      "                                                  Pipeline(steps=[('imputer',\n",
      "                                                                   SimpleImputer(strategy='median')),\n",
      "                                                                  ('scaler',\n",
      "                                                                   MinMaxScaler())]),\n",
      "                                                  ['loan_amount', 'income',\n",
      "                                                   'Credit_Score']),\n",
      "                                                 ('cat',\n",
      "                                                  Pipeline(steps=[('imputer',\n",
      "                                                                   SimpleImputer(strategy='most_frequent')),\n",
      "                                                                  ('onehotencode',\n",
      "                                                                   OneHotEncoder(drop='first'))]),\n",
      "                                                  ['loan_limit', 'Gender',\n",
      "                                                   'approv_in_adv', 'loan_type',\n",
      "                                                   'loan_purpose',\n",
      "                                                   'Credit_Worthiness',\n",
      "                                                   'business_or_commercial',\n",
      "                                                   'Neg_ammortization',\n",
      "                                                   'interest_only',\n",
      "                                                   'credit_type',\n",
      "                                                   'co-applicant_credit_type',\n",
      "                                                   'age',\n",
      "                                                   'submission_of_application',\n",
      "                                                   'Region'])])),\n",
      "                ('gbc', LGBMClassifier(random_state=123))])\n"
     ]
    }
   ],
   "source": [
    "# fit the pipeline \n",
    "pipe = pipeline.fit(X_train, y_train)\n",
    "print (pipe)"
   ]
  },
  {
   "cell_type": "code",
   "execution_count": 28,
   "metadata": {},
   "outputs": [
    {
     "name": "stdout",
     "output_type": "stream",
     "text": [
      "Confusion Matrix:\n",
      " [[33399   210]\n",
      " [ 5649  5343]] \n",
      "\n",
      "Accuracy: 0.8686352323938925\n",
      "Overall Precision: 0.9621826039978391\n",
      "Overall Recall: 0.48608078602620086\n",
      "AUC: 0.8421675722127352\n"
     ]
    },
    {
     "data": {
      "image/png": "[encoded data removed]",
      "text/plain": [
       "<Figure size 432x432 with 1 Axes>"
      ]
     },
     "metadata": {
      "needs_background": "light"
     },
     "output_type": "display_data"
    }
   ],
   "source": [
    "# Get predictions from test data\n",
    "predictions = pipe.predict(X_test)\n",
    "y_scores = pipe.predict_proba(X_test)\n",
    "\n",
    "# Get evaluation metrics\n",
    "cm = confusion_matrix(y_test, predictions)\n",
    "print ('Confusion Matrix:\\n',cm, '\\n')\n",
    "print('Accuracy:', accuracy_score(y_test, predictions))\n",
    "print(\"Overall Precision:\",precision_score(y_test, predictions))\n",
    "print(\"Overall Recall:\",recall_score(y_test, predictions))\n",
    "auc = roc_auc_score(y_test,y_scores[:,1])\n",
    "print('AUC: ' + str(auc))\n",
    "\n",
    "# calculate ROC curve\n",
    "fpr, tpr, thresholds = roc_curve(y_test, y_scores[:,1])\n",
    "\n",
    "# plot ROC curve\n",
    "fig = plt.figure(figsize=(6, 6))\n",
    "# Plot the diagonal 50% line\n",
    "plt.plot([0, 1], [0, 1], 'k--')\n",
    "# Plot the FPR and TPR achieved by our model\n",
    "plt.plot(fpr, tpr)\n",
    "plt.xlabel('False Positive Rate')\n",
    "plt.ylabel('True Positive Rate')\n",
    "plt.title('ROC Curve')\n",
    "plt.grid('on')\n",
    "plt.show()"
   ]
  },
  {
   "cell_type": "code",
   "execution_count": 29,
   "metadata": {},
   "outputs": [
    {
     "data": {
      "text/plain": [
       "['./models/pipeline.pkl']"
      ]
     },
     "execution_count": 29,
     "metadata": {},
     "output_type": "execute_result"
    }
   ],
   "source": [
    "# Save the pipeline as a pickle file\n",
    "filename = '/pipeline.pkl'\n",
    "joblib.dump(pipe, MODELPATH + filename)"
   ]
  },
  {
   "cell_type": "markdown",
   "metadata": {},
   "source": [
    "# Test Scoring New Data"
   ]
  },
  {
   "cell_type": "code",
   "execution_count": 30,
   "metadata": {},
   "outputs": [
    {
     "data": {
      "text/html": [
       "<div>\n",
       "<style scoped>\n",
       "    .dataframe tbody tr th:only-of-type {\n",
       "        vertical-align: middle;\n",
       "    }\n",
       "\n",
       "    .dataframe tbody tr th {\n",
       "        vertical-align: top;\n",
       "    }\n",
       "\n",
       "    .dataframe thead th {\n",
       "        text-align: right;\n",
       "    }\n",
       "</style>\n",
       "<table border=\"1\" class=\"dataframe\">\n",
       "  <thead>\n",
       "    <tr style=\"text-align: right;\">\n",
       "      <th></th>\n",
       "      <th>ID</th>\n",
       "      <th>year</th>\n",
       "      <th>loan_limit</th>\n",
       "      <th>Gender</th>\n",
       "      <th>approv_in_adv</th>\n",
       "      <th>loan_type</th>\n",
       "      <th>loan_purpose</th>\n",
       "      <th>Credit_Worthiness</th>\n",
       "      <th>business_or_commercial</th>\n",
       "      <th>loan_amount</th>\n",
       "      <th>Neg_ammortization</th>\n",
       "      <th>interest_only</th>\n",
       "      <th>income</th>\n",
       "      <th>credit_type</th>\n",
       "      <th>Credit_Score</th>\n",
       "      <th>co-applicant_credit_type</th>\n",
       "      <th>age</th>\n",
       "      <th>submission_of_application</th>\n",
       "      <th>Region</th>\n",
       "      <th>Status</th>\n",
       "    </tr>\n",
       "  </thead>\n",
       "  <tbody>\n",
       "    <tr>\n",
       "      <th>0</th>\n",
       "      <td>24890</td>\n",
       "      <td>2019</td>\n",
       "      <td>cf</td>\n",
       "      <td>Sex Not Available</td>\n",
       "      <td>nopre</td>\n",
       "      <td>type1</td>\n",
       "      <td>p1</td>\n",
       "      <td>l1</td>\n",
       "      <td>nob/c</td>\n",
       "      <td>116500</td>\n",
       "      <td>not_neg</td>\n",
       "      <td>not_int</td>\n",
       "      <td>1740.0</td>\n",
       "      <td>EXP</td>\n",
       "      <td>758</td>\n",
       "      <td>CIB</td>\n",
       "      <td>25-34</td>\n",
       "      <td>to_inst</td>\n",
       "      <td>south</td>\n",
       "      <td>1</td>\n",
       "    </tr>\n",
       "  </tbody>\n",
       "</table>\n",
       "</div>"
      ],
      "text/plain": [
       "      ID  year loan_limit             Gender approv_in_adv loan_type  \\\n",
       "0  24890  2019         cf  Sex Not Available         nopre     type1   \n",
       "\n",
       "  loan_purpose Credit_Worthiness business_or_commercial  loan_amount  \\\n",
       "0           p1                l1                  nob/c       116500   \n",
       "\n",
       "  Neg_ammortization interest_only  income credit_type  Credit_Score  \\\n",
       "0           not_neg       not_int  1740.0         EXP           758   \n",
       "\n",
       "  co-applicant_credit_type    age submission_of_application Region  Status  \n",
       "0                      CIB  25-34                   to_inst  south       1  "
      ]
     },
     "execution_count": 30,
     "metadata": {},
     "output_type": "execute_result"
    }
   ],
   "source": [
    "# load training dataset\n",
    "with open(DATAPROCESSEDPATH + '/data_preprocessed.pkl','rb') as f:\n",
    "    df_new = joblib.load(f)\n",
    "\n",
    "# select first row\n",
    "df_new = df_new[0:1]\n",
    "df_new.head()"
   ]
  },
  {
   "cell_type": "code",
   "execution_count": 31,
   "metadata": {},
   "outputs": [
    {
     "name": "stdout",
     "output_type": "stream",
     "text": [
      "Pipeline(steps=[('preprocessor',\n",
      "                 ColumnTransformer(transformers=[('num',\n",
      "                                                  Pipeline(steps=[('imputer',\n",
      "                                                                   SimpleImputer(strategy='median')),\n",
      "                                                                  ('scaler',\n",
      "                                                                   MinMaxScaler())]),\n",
      "                                                  ['loan_amount', 'income',\n",
      "                                                   'Credit_Score']),\n",
      "                                                 ('cat',\n",
      "                                                  Pipeline(steps=[('imputer',\n",
      "                                                                   SimpleImputer(strategy='most_frequent')),\n",
      "                                                                  ('onehotencode',\n",
      "                                                                   OneHotEncoder(drop='first'))]),\n",
      "                                                  ['loan_limit', 'Gender',\n",
      "                                                   'approv_in_adv', 'loan_type',\n",
      "                                                   'loan_purpose',\n",
      "                                                   'Credit_Worthiness',\n",
      "                                                   'business_or_commercial',\n",
      "                                                   'Neg_ammortization',\n",
      "                                                   'interest_only',\n",
      "                                                   'credit_type',\n",
      "                                                   'co-applicant_credit_type',\n",
      "                                                   'age',\n",
      "                                                   'submission_of_application',\n",
      "                                                   'Region'])])),\n",
      "                ('gbc', LGBMClassifier(random_state=123))])\n"
     ]
    }
   ],
   "source": [
    "# load pipeline\n",
    "with open(MODELPATH + '/pipeline.pkl','rb') as f:\n",
    "    pipe_loaded = joblib.load(f)\n",
    "\n",
    "print(pipe_loaded)"
   ]
  },
  {
   "cell_type": "code",
   "execution_count": 32,
   "metadata": {},
   "outputs": [
    {
     "name": "stdout",
     "output_type": "stream",
     "text": [
      "-----------------------------------\n",
      "numeric features: \n",
      " ['loan_amount', 'income', 'Credit_Score']\n",
      "-----------------------------------\n",
      "categorical features: \n",
      " ['loan_limit', 'Gender', 'approv_in_adv', 'loan_type', 'loan_purpose', 'Credit_Worthiness', 'business_or_commercial', 'Neg_ammortization', 'interest_only', 'credit_type', 'co-applicant_credit_type', 'age', 'submission_of_application', 'Region']\n"
     ]
    }
   ],
   "source": [
    "# seperate into numerical and categorical features\n",
    "num_features = list(df_new.dtypes[(df_new.dtypes == 'int64') | (df_new.dtypes == 'float64')].index[2:-1])\n",
    "cat_features = list(df_new.dtypes[df_new.dtypes == 'object'].index)\n",
    "label = ['Status']\n",
    "print('-----------------------------------')\n",
    "print('numeric features: \\n', num_features)\n",
    "print('-----------------------------------')\n",
    "print('categorical features: \\n', cat_features)"
   ]
  },
  {
   "cell_type": "code",
   "execution_count": 33,
   "metadata": {},
   "outputs": [
    {
     "data": {
      "text/html": [
       "<div>\n",
       "<style scoped>\n",
       "    .dataframe tbody tr th:only-of-type {\n",
       "        vertical-align: middle;\n",
       "    }\n",
       "\n",
       "    .dataframe tbody tr th {\n",
       "        vertical-align: top;\n",
       "    }\n",
       "\n",
       "    .dataframe thead th {\n",
       "        text-align: right;\n",
       "    }\n",
       "</style>\n",
       "<table border=\"1\" class=\"dataframe\">\n",
       "  <thead>\n",
       "    <tr style=\"text-align: right;\">\n",
       "      <th></th>\n",
       "      <th>loan_amount</th>\n",
       "      <th>income</th>\n",
       "      <th>Credit_Score</th>\n",
       "      <th>loan_limit</th>\n",
       "      <th>Gender</th>\n",
       "      <th>approv_in_adv</th>\n",
       "      <th>loan_type</th>\n",
       "      <th>loan_purpose</th>\n",
       "      <th>Credit_Worthiness</th>\n",
       "      <th>business_or_commercial</th>\n",
       "      <th>Neg_ammortization</th>\n",
       "      <th>interest_only</th>\n",
       "      <th>credit_type</th>\n",
       "      <th>co-applicant_credit_type</th>\n",
       "      <th>age</th>\n",
       "      <th>submission_of_application</th>\n",
       "      <th>Region</th>\n",
       "    </tr>\n",
       "  </thead>\n",
       "  <tbody>\n",
       "    <tr>\n",
       "      <th>0</th>\n",
       "      <td>116500</td>\n",
       "      <td>1740.0</td>\n",
       "      <td>758</td>\n",
       "      <td>cf</td>\n",
       "      <td>Sex Not Available</td>\n",
       "      <td>nopre</td>\n",
       "      <td>type1</td>\n",
       "      <td>p1</td>\n",
       "      <td>l1</td>\n",
       "      <td>nob/c</td>\n",
       "      <td>not_neg</td>\n",
       "      <td>not_int</td>\n",
       "      <td>EXP</td>\n",
       "      <td>CIB</td>\n",
       "      <td>25-34</td>\n",
       "      <td>to_inst</td>\n",
       "      <td>south</td>\n",
       "    </tr>\n",
       "  </tbody>\n",
       "</table>\n",
       "</div>"
      ],
      "text/plain": [
       "   loan_amount  income  Credit_Score loan_limit             Gender  \\\n",
       "0       116500  1740.0           758         cf  Sex Not Available   \n",
       "\n",
       "  approv_in_adv loan_type loan_purpose Credit_Worthiness  \\\n",
       "0         nopre     type1           p1                l1   \n",
       "\n",
       "  business_or_commercial Neg_ammortization interest_only credit_type  \\\n",
       "0                  nob/c           not_neg       not_int         EXP   \n",
       "\n",
       "  co-applicant_credit_type    age submission_of_application Region  \n",
       "0                      CIB  25-34                   to_inst  south  "
      ]
     },
     "execution_count": 33,
     "metadata": {},
     "output_type": "execute_result"
    }
   ],
   "source": [
    "# get feature array\n",
    "X_new = df_new[num_features + cat_features]\n",
    "X_new"
   ]
  },
  {
   "cell_type": "code",
   "execution_count": 34,
   "metadata": {},
   "outputs": [
    {
     "data": {
      "text/plain": [
       "array([0], dtype=int64)"
      ]
     },
     "execution_count": 34,
     "metadata": {},
     "output_type": "execute_result"
    }
   ],
   "source": [
    "# make prediction\n",
    "pipe_loaded.predict(X_new)"
   ]
  },
  {
   "cell_type": "markdown",
   "metadata": {},
   "source": [
    "# Model Explainability"
   ]
  },
  {
   "cell_type": "code",
   "execution_count": 35,
   "metadata": {},
   "outputs": [],
   "source": [
    "import shap"
   ]
  },
  {
   "cell_type": "code",
   "execution_count": 36,
   "metadata": {},
   "outputs": [
    {
     "data": {
      "text/plain": [
       "Pipeline(steps=[('preprocessor',\n",
       "                 ColumnTransformer(transformers=[('num',\n",
       "                                                  Pipeline(steps=[('imputer',\n",
       "                                                                   SimpleImputer(strategy='median')),\n",
       "                                                                  ('scaler',\n",
       "                                                                   MinMaxScaler())]),\n",
       "                                                  ['loan_amount', 'income',\n",
       "                                                   'Credit_Score']),\n",
       "                                                 ('cat',\n",
       "                                                  Pipeline(steps=[('imputer',\n",
       "                                                                   SimpleImputer(strategy='most_frequent')),\n",
       "                                                                  ('onehotencode',\n",
       "                                                                   OneHotEncoder(drop='first'))]),\n",
       "                                                  ['loan_limit', 'Gender',\n",
       "                                                   'approv_in_adv', 'loan_type',\n",
       "                                                   'loan_purpose',\n",
       "                                                   'Credit_Worthiness',\n",
       "                                                   'business_or_commercial',\n",
       "                                                   'Neg_ammortization',\n",
       "                                                   'interest_only',\n",
       "                                                   'credit_type',\n",
       "                                                   'co-applicant_credit_type',\n",
       "                                                   'age',\n",
       "                                                   'submission_of_application',\n",
       "                                                   'Region'])])),\n",
       "                ('gbc', LGBMClassifier(random_state=123))])"
      ]
     },
     "execution_count": 36,
     "metadata": {},
     "output_type": "execute_result"
    }
   ],
   "source": [
    "pipe_loaded"
   ]
  },
  {
   "cell_type": "code",
   "execution_count": 37,
   "metadata": {},
   "outputs": [],
   "source": [
    "# reduce data for better computational performance\n",
    "data = df_test.sample(100)"
   ]
  },
  {
   "cell_type": "code",
   "execution_count": 38,
   "metadata": {},
   "outputs": [
    {
     "data": {
      "text/plain": [
       "array([[0.5625    , 0.09009009, 0.58      , ..., 0.        , 0.        ,\n",
       "        1.        ],\n",
       "       [0.9375    , 0.14414414, 0.395     , ..., 0.        , 0.        ,\n",
       "        0.        ],\n",
       "       [0.70833333, 0.08258258, 0.57      , ..., 0.        , 0.        ,\n",
       "        1.        ],\n",
       "       ...,\n",
       "       [0.58333333, 0.25975976, 0.78      , ..., 0.        , 0.        ,\n",
       "        1.        ],\n",
       "       [0.25      , 0.22972973, 0.245     , ..., 0.        , 0.        ,\n",
       "        1.        ],\n",
       "       [0.8125    , 0.18018018, 0.375     , ..., 0.        , 0.        ,\n",
       "        1.        ]])"
      ]
     },
     "execution_count": 38,
     "metadata": {},
     "output_type": "execute_result"
    }
   ],
   "source": [
    "# get transformed data\n",
    "data_trans = pipeline['preprocessor'].transform(data)\n",
    "data_trans"
   ]
  },
  {
   "cell_type": "code",
   "execution_count": 39,
   "metadata": {},
   "outputs": [
    {
     "data": {
      "text/plain": [
       "LGBMClassifier(random_state=123)"
      ]
     },
     "execution_count": 39,
     "metadata": {},
     "output_type": "execute_result"
    }
   ],
   "source": [
    "# get model\n",
    "model = pipeline['gbc']\n",
    "model"
   ]
  },
  {
   "cell_type": "code",
   "execution_count": 79,
   "metadata": {},
   "outputs": [],
   "source": [
    "cat_features_enc = list(pipeline.named_steps['preprocessor'].transformers_[1][1].named_steps['onehotencode'].get_feature_names_out(cat_features))"
   ]
  },
  {
   "cell_type": "code",
   "execution_count": 81,
   "metadata": {},
   "outputs": [
    {
     "data": {
      "text/plain": [
       "['loan_amount',\n",
       " 'income',\n",
       " 'Credit_Score',\n",
       " 'loan_limit_ncf',\n",
       " 'Gender_Joint',\n",
       " 'Gender_Male',\n",
       " 'Gender_Sex Not Available',\n",
       " 'approv_in_adv_pre',\n",
       " 'loan_type_type2',\n",
       " 'loan_type_type3',\n",
       " 'loan_purpose_p2',\n",
       " 'loan_purpose_p3',\n",
       " 'loan_purpose_p4',\n",
       " 'Credit_Worthiness_l2',\n",
       " 'business_or_commercial_nob/c',\n",
       " 'Neg_ammortization_not_neg',\n",
       " 'interest_only_not_int',\n",
       " 'credit_type_CRIF',\n",
       " 'credit_type_EQUI',\n",
       " 'credit_type_EXP',\n",
       " 'co-applicant_credit_type_EXP',\n",
       " 'age_35-44',\n",
       " 'age_45-54',\n",
       " 'age_55-64',\n",
       " 'age_65-74',\n",
       " 'age_<25',\n",
       " 'age_>74',\n",
       " 'submission_of_application_to_inst',\n",
       " 'Region_North-East',\n",
       " 'Region_central',\n",
       " 'Region_south']"
      ]
     },
     "execution_count": 81,
     "metadata": {},
     "output_type": "execute_result"
    }
   ],
   "source": [
    "# feature names\n",
    "feature_names = num_features + cat_features_enc\n",
    "feature_names"
   ]
  },
  {
   "cell_type": "code",
   "execution_count": 82,
   "metadata": {},
   "outputs": [
    {
     "name": "stderr",
     "output_type": "stream",
     "text": [
      "Permutation explainer: 101it [00:15,  2.69it/s]                         \n"
     ]
    }
   ],
   "source": [
    "# init shap explainer\n",
    "explainer = shap.explainers.Permutation(model=model.predict,\n",
    "                                        masker=data_trans, \n",
    "                                        feature_names=feature_names,\n",
    "                                        max_evals=1000)\n",
    "# calculate shapley values\n",
    "shap_values = explainer(data_trans)"
   ]
  },
  {
   "cell_type": "code",
   "execution_count": 83,
   "metadata": {},
   "outputs": [
    {
     "data": {
      "image/png": "[encoded data removed]",
      "text/plain": [
       "<Figure size 576x468 with 1 Axes>"
      ]
     },
     "metadata": {},
     "output_type": "display_data"
    }
   ],
   "source": [
    "# bar plot \n",
    "shap.plots.bar(shap_values, \n",
    "                show=False)\n",
    "fig = plt.gcf()\n",
    "ax = plt.gca()\n",
    "ax.set_title('Feature importance')\n",
    "plt.show()"
   ]
  },
  {
   "cell_type": "code",
   "execution_count": 84,
   "metadata": {},
   "outputs": [
    {
     "data": {
      "image/png": "[encoded data removed]",
      "text/plain": [
       "<Figure size 576x396 with 2 Axes>"
      ]
     },
     "metadata": {
      "needs_background": "light"
     },
     "output_type": "display_data"
    }
   ],
   "source": [
    "# beeswarm plot \n",
    "shap.plots.beeswarm(shap_values, \n",
    "                    show=False)\n",
    "fig = plt.gcf()\n",
    "ax = plt.gca()\n",
    "ax.set_title('Feature importance')\n",
    "plt.show()"
   ]
  },
  {
   "cell_type": "code",
   "execution_count": null,
   "metadata": {},
   "outputs": [],
   "source": []
  }
 ],
 "metadata": {
  "interpreter": {
   "hash": "8e7b574b9f69e7163b6f47ff939b0d72862914303ee1b93066622524e08cf53a"
  },
  "kernelspec": {
   "display_name": "Python 3.8.13 ('pycaretenv')",
   "language": "python",
   "name": "python3"
  },
  "language_info": {
   "codemirror_mode": {
    "name": "ipython",
    "version": 3
   },
   "file_extension": ".py",
   "mimetype": "text/x-python",
   "name": "python",
   "nbconvert_exporter": "python",
   "pygments_lexer": "ipython3",
   "version": "3.8.13"
  },
  "orig_nbformat": 4
 },
 "nbformat": 4,
 "nbformat_minor": 2
}
